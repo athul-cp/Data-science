{
 "cells": [
  {
   "cell_type": "markdown",
   "metadata": {},
   "source": [
    "# Question 1\n",
    "\n"
   ]
  },
  {
   "cell_type": "code",
   "execution_count": 12,
   "metadata": {},
   "outputs": [
    {
     "name": "stdout",
     "output_type": "stream",
     "text": [
      "2\n",
      "1\n",
      "3\n",
      "4\n",
      "5\n",
      "6\n",
      "7\n",
      "8\n",
      "9\n",
      "22\n",
      "[2, 4, 6, 8, 22]\n"
     ]
    }
   ],
   "source": [
    "list=[]\n",
    "i=1\n",
    "while i<=10:\n",
    "    n=int(input())\n",
    "    if n%2==0:\n",
    "        list.append(n)\n",
    "    i=i+1\n",
    "print(list)"
   ]
  },
  {
   "cell_type": "markdown",
   "metadata": {},
   "source": [
    "# Question 2\n"
   ]
  },
  {
   "cell_type": "markdown",
   "metadata": {},
   "source": [
    "Comprehension in python provide us with a short and concise way to construct new sequences using sequences which have been already defined.\n",
    "Python supports 4 types of comprehensions\n",
    " 1)List comprehensions\n",
    " 2)Dictionary comprehensions\n",
    " 3)Set comprehensions\n",
    " 4)Generation comprehensions\n",
    " \n",
    "            ex1: Suppose we want to create a new list 'b' where list 'a' is given and elements in 'b' are exactly the squares of elements in 'a'.Then instead of using loops we can use list comprehensions.\n",
    "            ex2: Suppose we have two list 'x' and 'y' we want to find the common elements.here also we can use list comprehensions instead of loops.\n",
    "            ex3: Suppose if we want to split a word and create a new list etc.\n",
    "            \n",
    " \n",
    "             "
   ]
  },
  {
   "cell_type": "code",
   "execution_count": 15,
   "metadata": {},
   "outputs": [
    {
     "name": "stdout",
     "output_type": "stream",
     "text": [
      "[1, 2, 3, 4, 5]\n",
      "[1, 4, 9, 16, 25]\n"
     ]
    }
   ],
   "source": [
    "#Example 1\n",
    "a=[1,2,3,4,5]\n",
    "print(a)\n",
    "b=[x**2 for x in a]\n",
    "print(b)"
   ]
  },
  {
   "cell_type": "code",
   "execution_count": 16,
   "metadata": {},
   "outputs": [
    {
     "name": "stdout",
     "output_type": "stream",
     "text": [
      "[11, 12, 13, 14, 15, 16, 17]\n",
      "[11, 13, 15, 17, 19, 21]\n",
      "[11, 13, 15, 17]\n"
     ]
    }
   ],
   "source": [
    "#Example 2\n",
    "x=[11,12,13,14,15,16,17]\n",
    "print(x)\n",
    "y=[11,13,15,17,19,21]\n",
    "print(y)\n",
    "comon=[a for a in x for b in y if a==b]\n",
    "print(comon)"
   ]
  },
  {
   "cell_type": "code",
   "execution_count": 17,
   "metadata": {},
   "outputs": [
    {
     "name": "stdout",
     "output_type": "stream",
     "text": [
      "['H', 'u', 'm', 'a', 'n']\n"
     ]
    }
   ],
   "source": [
    "#Example 3\n",
    "new=[x for x in 'Human']\n",
    "print(new)"
   ]
  },
  {
   "cell_type": "markdown",
   "metadata": {},
   "source": [
    "#  Question 3"
   ]
  },
  {
   "cell_type": "code",
   "execution_count": 18,
   "metadata": {},
   "outputs": [
    {
     "name": "stdout",
     "output_type": "stream",
     "text": [
      "4\n",
      "{1: 1, 2: 4, 3: 9, 4: 16}\n"
     ]
    }
   ],
   "source": [
    "n=int(input())\n",
    "a={}\n",
    "i=1\n",
    "while i<=n:\n",
    "    a[i]=i*i\n",
    "    i=i+1\n",
    "print(a)"
   ]
  },
  {
   "cell_type": "markdown",
   "metadata": {},
   "source": [
    "# Question 4"
   ]
  },
  {
   "cell_type": "code",
   "execution_count": 22,
   "metadata": {},
   "outputs": [
    {
     "name": "stdout",
     "output_type": "stream",
     "text": [
      "4\n",
      "UP 4\n",
      "DOWN 3\n",
      "LEFT 3\n",
      "RIGHT 2\n",
      "1\n"
     ]
    }
   ],
   "source": [
    "import math\n",
    "position={\"x\":0,\"y\":0}\n",
    "n=int(input())\n",
    "for i in range(0,n):\n",
    "    direction,steps=input().split()\n",
    "    if direction==\"UP\":\n",
    "        position[\"y\"]+=int(steps)\n",
    "    elif direction==\"DOWN\":\n",
    "        position[\"y\"]-=int(steps)\n",
    "    elif direction==\"LEFT\":\n",
    "        position[\"x\"]+=int(steps)\n",
    "    elif direction==\"RIGHT\":\n",
    "        position[\"x\"]-=int(steps)\n",
    "print(int(round(math.sqrt(position[\"x\"]**2+position[\"y\"]**2))))"
   ]
  }
 ],
 "metadata": {
  "kernelspec": {
   "display_name": "Python 3",
   "language": "python",
   "name": "python3"
  },
  "language_info": {
   "codemirror_mode": {
    "name": "ipython",
    "version": 3
   },
   "file_extension": ".py",
   "mimetype": "text/x-python",
   "name": "python",
   "nbconvert_exporter": "python",
   "pygments_lexer": "ipython3",
   "version": "3.8.3"
  }
 },
 "nbformat": 4,
 "nbformat_minor": 4
}
