{
 "cells": [
  {
   "cell_type": "markdown",
   "metadata": {},
   "source": [
    "Question 1\n",
    "\n",
    " a)RAINBOW\n",
    " "
   ]
  },
  {
   "cell_type": "code",
   "execution_count": 3,
   "metadata": {},
   "outputs": [
    {
     "name": "stdout",
     "output_type": "stream",
     "text": [
      "LETS UPGDRADE\n"
     ]
    }
   ],
   "source": [
    "#Question 2\n",
    "\n",
    "print(\"LETS UPGDRADE\")"
   ]
  },
  {
   "cell_type": "code",
   "execution_count": 8,
   "metadata": {},
   "outputs": [
    {
     "name": "stdout",
     "output_type": "stream",
     "text": [
      "enter the cost price200\n",
      "enter the selling price200\n",
      "neither loss or profit\n"
     ]
    }
   ],
   "source": [
    "#Question 3\n",
    "\n",
    "cost_price=input(\"Enter the cost price\")\n",
    "selling_price=input(\"Enter the selling price\")\n",
    "if(cost_price<selling_price):\n",
    " print(\"Profit\")\n",
    "elif(cost_price==selling_price):\n",
    " print(\"Neither\")\n",
    "else:\n",
    " print(\"Loss\")"
   ]
  },
  {
   "cell_type": "code",
   "execution_count": 11,
   "metadata": {},
   "outputs": [
    {
     "name": "stdout",
     "output_type": "stream",
     "text": [
      "20\n",
      "20\n",
      "Neither\n"
     ]
    }
   ],
   "source": [
    "#Question 4\n",
    " \n",
    "cost=input()\n",
    "selling=input()\n",
    "if(cost<selling):\n",
    " print(\"Profit\")\n",
    "elif(cost==selling):\n",
    " print(\"Neither\")\n",
    "else:\n",
    " print(\"Loss\")\n",
    "\n"
   ]
  },
  {
   "cell_type": "code",
   "execution_count": 18,
   "metadata": {},
   "outputs": [
    {
     "name": "stdout",
     "output_type": "stream",
     "text": [
      "2\n",
      "160.0\n"
     ]
    }
   ],
   "source": [
    "#Question 5\n",
    "\n",
    "print(float(input())*80)"
   ]
  }
 ],
 "metadata": {
  "kernelspec": {
   "display_name": "Python 3",
   "language": "python",
   "name": "python3"
  },
  "language_info": {
   "codemirror_mode": {
    "name": "ipython",
    "version": 3
   },
   "file_extension": ".py",
   "mimetype": "text/x-python",
   "name": "python",
   "nbconvert_exporter": "python",
   "pygments_lexer": "ipython3",
   "version": "3.8.3"
  }
 },
 "nbformat": 4,
 "nbformat_minor": 4
}
